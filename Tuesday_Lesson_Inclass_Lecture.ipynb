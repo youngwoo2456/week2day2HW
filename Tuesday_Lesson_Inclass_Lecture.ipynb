{
 "cells": [
  {
   "cell_type": "markdown",
   "metadata": {},
   "source": [
    "# Functions, Scoping, Data Collections 1 & List Comprehensions"
   ]
  },
  {
   "cell_type": "markdown",
   "metadata": {},
   "source": [
    "## Tasks Today:\n",
    "\n",
    "<i>Monday Additions (or, and ... if statements)</i>\n",
    "\n",
    "1) String Manipulation <br>\n",
    " &nbsp;&nbsp;&nbsp;&nbsp; a) strip() <br>\n",
    " &nbsp;&nbsp;&nbsp;&nbsp; b) title() <br>\n",
    "2) Working With Lists <br>\n",
    " &nbsp;&nbsp;&nbsp;&nbsp; a) min() <br>\n",
    " &nbsp;&nbsp;&nbsp;&nbsp; b) max() <br>\n",
    " &nbsp;&nbsp;&nbsp;&nbsp; c) sum() <br>\n",
    " &nbsp;&nbsp;&nbsp;&nbsp; d) sort() <br>\n",
    " &nbsp;&nbsp;&nbsp;&nbsp; e) Copying a List <br>\n",
    " &nbsp;&nbsp;&nbsp;&nbsp; f) 'in' keyword <br>\n",
    " &nbsp;&nbsp;&nbsp;&nbsp; g) 'not in' keyword <br>\n",
    " &nbsp;&nbsp;&nbsp;&nbsp; i) Checking an Empty List <br>\n",
    " &nbsp;&nbsp;&nbsp;&nbsp; j) Removing Instances with a Loop <br>\n",
    "3) List Comprehensions <br>\n",
    "4) Tuples <br>\n",
    " &nbsp;&nbsp;&nbsp;&nbsp; a) sorted() <br>\n",
    "5) Functions <br>\n",
    " &nbsp;&nbsp;&nbsp;&nbsp; a) User-Defined vs. Built-In Functions <br>\n",
    " &nbsp;&nbsp;&nbsp;&nbsp; b) Accepting Parameters <br>\n",
    " &nbsp;&nbsp;&nbsp;&nbsp; c) Default Parameters <br>\n",
    " &nbsp;&nbsp;&nbsp;&nbsp; d) Making an Argument Optional <br>\n",
    " &nbsp;&nbsp;&nbsp;&nbsp; e) Keyword Arguments <br>\n",
    " &nbsp;&nbsp;&nbsp;&nbsp; f) Returning Values <br>\n",
    " &nbsp;&nbsp;&nbsp;&nbsp; g) *args <br>\n",
    " &nbsp;&nbsp;&nbsp;&nbsp; h) Docstring <br>\n",
    " &nbsp;&nbsp;&nbsp;&nbsp; i) Using a User Function in a Loop <br>\n",
    "6) Scope"
   ]
  },
  {
   "cell_type": "markdown",
   "metadata": {},
   "source": [
    "### String Manipulation"
   ]
  },
  {
   "cell_type": "markdown",
   "metadata": {},
   "source": [
    "##### .lstrip()"
   ]
  },
  {
   "cell_type": "code",
   "execution_count": 29,
   "metadata": {},
   "outputs": [
    {
     "name": "stdout",
     "output_type": "stream",
     "text": [
      "            hyoung choi\n",
      "            hyoung choi\n"
     ]
    }
   ],
   "source": [
    "# string.lstrip()\n",
    "name = \"            hyoung choi\"\n",
    "print(name)\n",
    "print(name.lstrip('' 'h'))\n",
    "        "
   ]
  },
  {
   "cell_type": "markdown",
   "metadata": {},
   "source": [
    "##### .rstrip()"
   ]
  },
  {
   "cell_type": "code",
   "execution_count": 30,
   "metadata": {},
   "outputs": [
    {
     "name": "stdout",
     "output_type": "stream",
     "text": [
      "bill Ross\n"
     ]
    }
   ],
   "source": [
    "# string.rstrip()\n",
    "name = 'bill Ross     t    h th'\n",
    "print(name.rstrip(' th'))"
   ]
  },
  {
   "cell_type": "markdown",
   "metadata": {},
   "source": [
    "##### .strip()"
   ]
  },
  {
   "cell_type": "code",
   "execution_count": 32,
   "metadata": {},
   "outputs": [
    {
     "name": "stdout",
     "output_type": "stream",
     "text": [
      "john smith\n"
     ]
    }
   ],
   "source": [
    "# string.strip()\n",
    "name = '       df         john smith         df'\n",
    "print(name.strip(' df'))"
   ]
  },
  {
   "cell_type": "markdown",
   "metadata": {},
   "source": [
    "##### .title()"
   ]
  },
  {
   "cell_type": "code",
   "execution_count": 34,
   "metadata": {},
   "outputs": [
    {
     "name": "stdout",
     "output_type": "stream",
     "text": [
      "Joe Biden\n",
      "JOE BIDEN\n"
     ]
    }
   ],
   "source": [
    "# string.title()\n",
    "president = 'Joe biDen'\n",
    "print(president.title())\n",
    "print(president.upper())"
   ]
  },
  {
   "cell_type": "markdown",
   "metadata": {},
   "source": [
    "### String Exercise <br>\n",
    "<p>Strip all white space and capitalize every name in the list given</p>"
   ]
  },
  {
   "cell_type": "code",
   "execution_count": 6,
   "metadata": {},
   "outputs": [
    {
     "name": "stdout",
     "output_type": "stream",
     "text": [
      "['Connor', 'Max', 'Evan', 'Jordan']\n"
     ]
    }
   ],
   "source": [
    "names = ['    coNNor', 'max', ' EVan ', 'JORDAN']\n",
    "# HINT: You will need to use a for loop for iteration\n",
    "for x in range(len(names)):\n",
    "    names[x]= names[x].strip().title()\n",
    "print(names)\n",
    "\n",
    "\n"
   ]
  },
  {
   "cell_type": "markdown",
   "metadata": {},
   "source": [
    "### Working With Lists"
   ]
  },
  {
   "cell_type": "markdown",
   "metadata": {},
   "source": [
    "##### min()"
   ]
  },
  {
   "cell_type": "code",
   "execution_count": 7,
   "metadata": {},
   "outputs": [
    {
     "name": "stdout",
     "output_type": "stream",
     "text": [
      "6\n",
      "6\n"
     ]
    }
   ],
   "source": [
    "# min(list)\n",
    "num_list = [15, 21, 6, 12, 999]\n",
    "min_in_list = min(num_list)\n",
    "print(min_in_list)\n",
    "#min_num= min(num_list)\n",
    "#print(min_num)\n"
   ]
  },
  {
   "cell_type": "markdown",
   "metadata": {},
   "source": [
    "##### max()"
   ]
  },
  {
   "cell_type": "code",
   "execution_count": 46,
   "metadata": {},
   "outputs": [
    {
     "name": "stdout",
     "output_type": "stream",
     "text": [
      "999\n"
     ]
    }
   ],
   "source": [
    "# max(list)\n",
    "num_list = [15, 21, 6, 12, 999]\n",
    "max_list =max(num_list)\n",
    "print(max_list)"
   ]
  },
  {
   "cell_type": "markdown",
   "metadata": {},
   "source": [
    "##### sum()"
   ]
  },
  {
   "cell_type": "code",
   "execution_count": 49,
   "metadata": {},
   "outputs": [
    {
     "name": "stdout",
     "output_type": "stream",
     "text": [
      "1053\n"
     ]
    }
   ],
   "source": [
    "# sum(list)\n",
    "num_list = [15, 21, 6, 12, 999]\n",
    "print(sum(num_list))"
   ]
  },
  {
   "cell_type": "markdown",
   "metadata": {},
   "source": [
    "##### sorted()"
   ]
  },
  {
   "cell_type": "code",
   "execution_count": 50,
   "metadata": {},
   "outputs": [
    {
     "name": "stdout",
     "output_type": "stream",
     "text": [
      "[6, 12, 15, 21, 999]\n",
      "[15, 21, 6, 12, 999]\n"
     ]
    }
   ],
   "source": [
    "# sorted(list)\n",
    "num_list = [15, 21, 6, 12, 999]\n",
    "print(sorted(num_list))\n",
    "print(num_list)\n"
   ]
  },
  {
   "cell_type": "markdown",
   "metadata": {},
   "source": [
    "##### .sort() <br>\n",
    "<p>Difference between sort and sorted, is that sorted doesn't change original list it returns a copy, while .sort changes the original list</p>"
   ]
  },
  {
   "cell_type": "code",
   "execution_count": 52,
   "metadata": {},
   "outputs": [
    {
     "name": "stdout",
     "output_type": "stream",
     "text": [
      "[15, 21, 6, 12, 999]\n",
      "[6, 12, 15, 21, 999]\n"
     ]
    }
   ],
   "source": [
    "# list.sort()\n",
    "num_list = [15, 21, 6, 12, 999]\n",
    "print(num_list)\n",
    "num_list.sort()\n",
    "print(num_list)\n",
    "\n",
    "# use sorted when you don't want to alter original list, use .sort() when you want to alter original list"
   ]
  },
  {
   "cell_type": "markdown",
   "metadata": {},
   "source": [
    "##### Copying a List"
   ]
  },
  {
   "cell_type": "code",
   "execution_count": 62,
   "metadata": {},
   "outputs": [
    {
     "name": "stdout",
     "output_type": "stream",
     "text": [
      "[1, 2, 3, 4, 5, 6, 7, 8, 9]\n",
      "[9, 8, 7, 6, 5, 4, 3, 2, 1]\n",
      "[1, 3, 5, 7, 9]\n"
     ]
    }
   ],
   "source": [
    "# [:] copies a list, doesn't alter original\n",
    "x = [1,2,3,4,5,6,7,8,9]\n",
    "y=x[::-1] #reverse list\n",
    "z=x[::2] #copy by every other\n",
    "print(x)\n",
    "print(y)\n",
    "print(z)"
   ]
  },
  {
   "cell_type": "markdown",
   "metadata": {},
   "source": [
    "##### 'in' keyword"
   ]
  },
  {
   "cell_type": "code",
   "execution_count": null,
   "metadata": {},
   "outputs": [],
   "source": []
  },
  {
   "cell_type": "code",
   "execution_count": 8,
   "metadata": {},
   "outputs": [
    {
     "name": "stdout",
     "output_type": "stream",
     "text": [
      "not an instructor\n"
     ]
    }
   ],
   "source": [
    "cs_teachers=['shoha', 'ivan', 'shinha', 'teacher1']\n",
    "if 'shoha' in cs_teachers:\n",
    "    print('coding summit instructor')\n",
    "else: \n",
    "    print('not an instructor')"
   ]
  },
  {
   "cell_type": "markdown",
   "metadata": {},
   "source": [
    "##### 'not in' keyword"
   ]
  },
  {
   "cell_type": "code",
   "execution_count": 64,
   "metadata": {},
   "outputs": [
    {
     "name": "stdout",
     "output_type": "stream",
     "text": [
      "not an instructor\n"
     ]
    }
   ],
   "source": [
    "if 'billy' not in cs_teachers:\n",
    "    print('not an instructor')"
   ]
  },
  {
   "cell_type": "markdown",
   "metadata": {},
   "source": [
    "##### Checking an Empty List"
   ]
  },
  {
   "cell_type": "code",
   "execution_count": 9,
   "metadata": {},
   "outputs": [
    {
     "ename": "IndentationError",
     "evalue": "unexpected indent (<ipython-input-9-601628b62b94>, line 7)",
     "output_type": "error",
     "traceback": [
      "\u001b[1;36m  File \u001b[1;32m\"<ipython-input-9-601628b62b94>\"\u001b[1;36m, line \u001b[1;32m7\u001b[0m\n\u001b[1;33m    print(\"not empty\")\u001b[0m\n\u001b[1;37m    ^\u001b[0m\n\u001b[1;31mIndentationError\u001b[0m\u001b[1;31m:\u001b[0m unexpected indent\n"
     ]
    }
   ],
   "source": [
    "# if l_1: or if l_1 = []\n",
    "#dealing with truthiness; (empty list evaluates to false)\n",
    "l_1 = [1,2,3]\n",
    "l_2 = []\n",
    "\n",
    "if l_2:\n",
    "    print(\"not empty\")\n",
    "else:\n",
    "    print('empty')\n",
    "\n",
    "while l_1:            #while true\n",
    "    if l_1:\n",
    "        l_1.pop()\n",
    "        print(l_1)\n",
    "print('empty')\n",
    "\n"
   ]
  },
  {
   "cell_type": "markdown",
   "metadata": {},
   "source": [
    "##### Removing Instances with a Loop"
   ]
  },
  {
   "cell_type": "code",
   "execution_count": 67,
   "metadata": {},
   "outputs": [
    {
     "name": "stdout",
     "output_type": "stream",
     "text": [
      "['shinha', 'shoha', 'ivan', 'evan', 'evan']\n",
      "['shinha', 'shoha', 'ivan', 'evan']\n",
      "['shinha', 'shoha', 'ivan']\n"
     ]
    }
   ],
   "source": [
    "# while, remove\n",
    "names = ['shinha', 'shoha', 'ivan', 'evan', 'evan']\n",
    "while 'evan' in names:\n",
    "    print(names)\n",
    "    names.remove('evan')\n",
    "print(names)\n"
   ]
  },
  {
   "cell_type": "markdown",
   "metadata": {},
   "source": [
    "### List Exercise <br>\n",
    "<p>Remove all duplicates<br><b>Extra: Create a program that will remove any duplicates from a given list</b></p>"
   ]
  },
  {
   "cell_type": "code",
   "execution_count": 73,
   "metadata": {},
   "outputs": [
    {
     "name": "stdout",
     "output_type": "stream",
     "text": [
      "['connor', 'bob', 'evan', 'max', 2, 3, 4, 'kevin']\n"
     ]
    }
   ],
   "source": [
    "names = ['connor', 'connor', 'bob', 'connor', 'evan', 'max', 'evan', 2, 2, 2, 3, 3, 4, 'bob', 'kevin']\n",
    "# Hint 1: You will need an append\n",
    "# Hint 2: Using an empty list will make life easier\n",
    "output = []\n",
    "for x in names:\n",
    "    if x in output:\n",
    "        continue\n",
    "    output.append(x)\n",
    "print(output)\n",
    "\n"
   ]
  },
  {
   "cell_type": "markdown",
   "metadata": {},
   "source": [
    "### List Comprehensions <br>\n",
    "<p>Creating a quickly generated list to work with<br>*result*  = [*transform*    *iteration*         *filter*     ]</p>"
   ]
  },
  {
   "cell_type": "markdown",
   "metadata": {},
   "source": [
    "##### In a list comprehension we have a few pieces:\n",
    "1. The first is the counter/ variable - IN this the variable is x\n",
    "2. then we have a transform for the variable\n",
    "3. The finale part of a list comp is called the condition\n",
    "\n",
    "```python\n",
    "    [variable, transform, condition]\n",
    "```"
   ]
  },
  {
   "cell_type": "code",
   "execution_count": 79,
   "metadata": {},
   "outputs": [
    {
     "name": "stdout",
     "output_type": "stream",
     "text": [
      "[0, 1, 2, 3, 4, 5, 6, 7, 8, 9, 10, 11, 12, 13, 14, 15, 16, 17, 18, 19, 20, 21, 22, 23, 24]\n",
      "====================================================================\n",
      "[0, 1, 2, 3, 4, 5, 6, 7, 8, 9]\n"
     ]
    }
   ],
   "source": [
    "# number comprehension\n",
    "\n",
    "# With a regular for loop\n",
    "nums =[]\n",
    "for x in range(25):\n",
    "    nums.append(x)\n",
    "print(nums)\n",
    "\n",
    "# IN a list comprehension we have a few pieces:\n",
    "# The first is the counter/ variable - IN this the variable is x\n",
    "# Then we have a transform for the variable \n",
    "# The finale part of a list comp is called the condition\n",
    "#[variable, transform, condition]\n",
    "\n",
    "print('====================================================================')\n",
    "\n",
    "num_lc=[x for x in range(25) if x<10] \n",
    "print(num_lc)\n",
    "\n",
    "\n"
   ]
  },
  {
   "cell_type": "markdown",
   "metadata": {},
   "source": [
    "There are a few benefits to using List comprehensions. The most obvious would be that we now have shorter code to work with instead of using 3+ lines of code in the for loop variant.\n",
    "\n",
    "Another is an added benefit to memory usage. Since the list's memory is allocated first before adding elements to it, we don't have to resize the list once we add elements to it.\n",
    "\n",
    "Lastly, list comprehensions are considered the \"pythonic\" way to write code by the PEP8 standards (Python Style Guide)"
   ]
  },
  {
   "cell_type": "code",
   "execution_count": 81,
   "metadata": {},
   "outputs": [
    {
     "name": "stdout",
     "output_type": "stream",
     "text": [
      "[0, 1, 4, 9, 16, 25, 36, 49, 64, 81]\n",
      "==================================================\n",
      "[0, 1, 4, 9, 16, 25, 36, 49, 64, 81]\n"
     ]
    }
   ],
   "source": [
    "# square number comprehension\n",
    "squares_reg = []\n",
    "for x in range(10):\n",
    "    squares_reg.append(x**2)\n",
    "print(squares_reg)\n",
    "\n",
    "print('==================================================')\n",
    "\n",
    "squares = [x**2 for x in range(10)]\n",
    "print(squares)\n"
   ]
  },
  {
   "cell_type": "code",
   "execution_count": 84,
   "metadata": {},
   "outputs": [
    {
     "name": "stdout",
     "output_type": "stream",
     "text": [
      "['S', 'S', 'I']\n",
      "==================================\n",
      "['S', 'S', 'I']\n"
     ]
    }
   ],
   "source": [
    "# string comprehension\n",
    "names = ['Shoha', 'Shina', 'Ivan']\n",
    "initials_lc=[name[0] for name in names]\n",
    "print(initials_lc)\n",
    "\n",
    "print(\"==================================\")\n",
    "\n",
    "initials_reg = []\n",
    "for name in names:\n",
    "    initials_reg.append(name[0])\n",
    "print(initials_reg)\n",
    "\n"
   ]
  },
  {
   "cell_type": "code",
   "execution_count": 89,
   "metadata": {},
   "outputs": [
    {
     "name": "stdout",
     "output_type": "stream",
     "text": [
      "['Shoha', 'Shina']\n",
      "=====================================\n",
      "['Shoha', 'Shina']\n"
     ]
    }
   ],
   "source": [
    "#Using if statements .. if always comes after the for \n",
    "names = ['Shoha', 'Shina', 'Ivan']\n",
    "\n",
    "#for loop version\n",
    "s_names_reg=[]\n",
    "for name in names:\n",
    "    if name[0] == 'S':\n",
    "        s_names_reg.append(name)\n",
    "print(s_names_reg)\n",
    "\n",
    "print('=====================================')\n",
    "\n",
    "#list comprehension\n",
    "s_names_lc =[name for name in names if name[0]=='S']\n",
    "print(s_names_lc)\n",
    "\n",
    "        "
   ]
  },
  {
   "cell_type": "code",
   "execution_count": null,
   "metadata": {},
   "outputs": [],
   "source": []
  },
  {
   "cell_type": "markdown",
   "metadata": {},
   "source": [
    "### Tuples <br>\n",
    "<p><b>Defined as an immutable list</b></p><br>Seperated by commas using parenthesis"
   ]
  },
  {
   "cell_type": "code",
   "execution_count": 93,
   "metadata": {},
   "outputs": [
    {
     "name": "stdout",
     "output_type": "stream",
     "text": [
      "shoha\n",
      "<class 'tuple'>\n"
     ]
    }
   ],
   "source": [
    "tup1 = 1,2,3\n",
    "tup2 = (1,2,'shoha', None, True, False)\n",
    "print(tup2[2])\n",
    "print(type(tup2))\n"
   ]
  },
  {
   "cell_type": "markdown",
   "metadata": {},
   "source": [
    "##### sorted()"
   ]
  },
  {
   "cell_type": "code",
   "execution_count": 98,
   "metadata": {},
   "outputs": [
    {
     "name": "stdout",
     "output_type": "stream",
     "text": [
      "(20, 5, 1, 9, 45)\n",
      "(1, 5, 9, 20, 45)\n"
     ]
    }
   ],
   "source": [
    "tup3 = (20, 5, 1, 9, 45)\n",
    "sorted_tup= tuple(sorted(tup3))     #can change list to a tuple \n",
    "print(tup3)\n",
    "print(sorted_tup)\n",
    "\n"
   ]
  },
  {
   "cell_type": "code",
   "execution_count": 109,
   "metadata": {},
   "outputs": [
    {
     "name": "stdout",
     "output_type": "stream",
     "text": [
      "shoha\n",
      "young choi\n"
     ]
    }
   ],
   "source": [
    "#having tuples in a list for values you won't change\n",
    "cs_class= [('shoha', 'Tsuchida'), ('Jerry', 'chen'), (), ()]\n",
    "print(cs_class[0][0])\n",
    "\n",
    "#strings are also immutable \n",
    "string1 = 'young'\n",
    "#string1[2]= 'a'     this code will say str does not support item assignment but can concatenate\n",
    "string_concat = string1 + ' choi'\n",
    "print(string_concat)\n",
    "#you are not mutating the string, just saving it to a new variable, can do the same w/ tuples \n"
   ]
  },
  {
   "cell_type": "markdown",
   "metadata": {},
   "source": [
    "##### Adding values to a Tuple"
   ]
  },
  {
   "cell_type": "code",
   "execution_count": 116,
   "metadata": {},
   "outputs": [
    {
     "name": "stdout",
     "output_type": "stream",
     "text": [
      "(1, 2, 3, 4)\n",
      "(1, 2)\n"
     ]
    }
   ],
   "source": [
    "tup4 = (1,2,3)\n",
    "tup4 = tup4 + (4,) #need to have the , to show it's a tuple\n",
    "#shorthand: tup4 +=(4,)\n",
    "print(tup4)\n",
    "tup4 = tup4[:2]\n",
    "print(tup4)"
   ]
  },
  {
   "cell_type": "markdown",
   "metadata": {},
   "source": [
    "## Functions"
   ]
  },
  {
   "cell_type": "markdown",
   "metadata": {},
   "source": [
    "##### User-Defined vs. Built-In Functions"
   ]
  },
  {
   "cell_type": "code",
   "execution_count": 120,
   "metadata": {},
   "outputs": [
    {
     "name": "stdout",
     "output_type": "stream",
     "text": [
      "Hello World!\n",
      "Hello World!\n"
     ]
    }
   ],
   "source": [
    "# user defined function\n",
    "# def <function_name> (<parameter1,...>):\n",
    "def sayHello():\n",
    "    return\"Hello World!\"       #return is what gets outputted to the function\n",
    "\n",
    "#show the function in memory\n",
    "print(sayHello())\n",
    "\n",
    "#executing the function\n",
    "x = sayHello()\n",
    "print(x)"
   ]
  },
  {
   "cell_type": "markdown",
   "metadata": {},
   "source": [
    "##### Accepting Parameters"
   ]
  },
  {
   "cell_type": "code",
   "execution_count": 10,
   "metadata": {},
   "outputs": [
    {
     "name": "stdout",
     "output_type": "stream",
     "text": [
      "Hello, Young Choi\n",
      "Hello, Choi Young\n"
     ]
    }
   ],
   "source": [
    "#order of parameters matter!\n",
    "def printFullName(first_name, last_name): #parameters are placeholders(x,y etc)\n",
    "    return f\"Hello, {first_name} {last_name}\"\n",
    "\n",
    "\n",
    "print(printFullName(\"Young\", \"Choi\"))\n",
    "print(printFullName(\"Choi\", \"Young\")) #based on positioning, order matters"
   ]
  },
  {
   "cell_type": "markdown",
   "metadata": {},
   "source": [
    "##### Default Parameters"
   ]
  },
  {
   "cell_type": "code",
   "execution_count": 128,
   "metadata": {},
   "outputs": [
    {
     "name": "stdout",
     "output_type": "stream",
     "text": [
      "The name is Bond, James Bond\n",
      "The name is Franco, James Franco\n"
     ]
    }
   ],
   "source": [
    "def printAgentName(first_name, last_name=\"Bond\"):\n",
    "    return f\"The name is {last_name}, {first_name} {last_name}\"\n",
    "\n",
    "print(printAgentName(\"James\"))      #if you don't pass a {last_name}, it is default\n",
    "print(printAgentName(\"James\", \"Franco\"))"
   ]
  },
  {
   "cell_type": "markdown",
   "metadata": {},
   "source": [
    "##### Making an Argument Optional"
   ]
  },
  {
   "cell_type": "code",
   "execution_count": null,
   "metadata": {},
   "outputs": [],
   "source": []
  },
  {
   "cell_type": "markdown",
   "metadata": {},
   "source": [
    "##### Keyword Arguments"
   ]
  },
  {
   "cell_type": "code",
   "execution_count": null,
   "metadata": {},
   "outputs": [],
   "source": [
    "# last_name='Max', first_name='Smith' in the function call\n",
    "\n",
    "# see above"
   ]
  },
  {
   "cell_type": "markdown",
   "metadata": {},
   "source": [
    "# Creating a start, stop, step function"
   ]
  },
  {
   "cell_type": "code",
   "execution_count": null,
   "metadata": {},
   "outputs": [],
   "source": []
  },
  {
   "cell_type": "markdown",
   "metadata": {},
   "source": [
    "##### Returning Values"
   ]
  },
  {
   "cell_type": "code",
   "execution_count": null,
   "metadata": {},
   "outputs": [],
   "source": []
  },
  {
   "cell_type": "markdown",
   "metadata": {},
   "source": [
    "##### *args"
   ]
  },
  {
   "cell_type": "code",
   "execution_count": null,
   "metadata": {},
   "outputs": [],
   "source": []
  },
  {
   "cell_type": "markdown",
   "metadata": {},
   "source": [
    "##### Docstring"
   ]
  },
  {
   "cell_type": "code",
   "execution_count": null,
   "metadata": {},
   "outputs": [],
   "source": []
  },
  {
   "cell_type": "markdown",
   "metadata": {},
   "source": [
    "##### Using a User Function in a Loop"
   ]
  },
  {
   "cell_type": "code",
   "execution_count": null,
   "metadata": {},
   "outputs": [],
   "source": []
  },
  {
   "cell_type": "markdown",
   "metadata": {},
   "source": [
    "## Function Exercise <br>\n",
    "<p>Write a function that loops through a list of first_names and a list of last_names, combines the two and return a list of full_names</p>"
   ]
  },
  {
   "cell_type": "code",
   "execution_count": null,
   "metadata": {},
   "outputs": [],
   "source": [
    "first_name = ['John', 'Evan', 'Jordan', 'Max']\n",
    "last_name = ['Smith', 'Smith', 'Williams', 'Bell']\n",
    "\n",
    "# Output: ['John Smith', 'Evan Smith', 'Jordan Williams', 'Max Bell']\n"
   ]
  },
  {
   "cell_type": "markdown",
   "metadata": {},
   "source": [
    "## Scope <br>\n",
    "<p>Scope refers to the ability to access variables, different types of scope include:<br>a) Global<br>b) Function (local)<br>c) Class (local)</p>"
   ]
  },
  {
   "cell_type": "code",
   "execution_count": null,
   "metadata": {},
   "outputs": [],
   "source": [
    "#for some reason jupyter notebook didn't save the last bits of my notes"
   ]
  },
  {
   "cell_type": "markdown",
   "metadata": {},
   "source": [
    "# Exercises"
   ]
  },
  {
   "cell_type": "markdown",
   "metadata": {},
   "source": [
    "## Exercise 1 <br>\n",
    "<p>Given a list as a parameter,write a function that returns a list of numbers that are less than ten</b></i></p><br>\n",
    "<p> For example: Say your input parameter to the function is [1,11,14,5,8,9]...Your output should [1,5,8,9]</p>"
   ]
  },
  {
   "cell_type": "code",
   "execution_count": 76,
   "metadata": {},
   "outputs": [
    {
     "name": "stdout",
     "output_type": "stream",
     "text": [
      "[1, 5, 8, 9]\n",
      "[1, 5, 8, 9]\n"
     ]
    }
   ],
   "source": [
    "# Use the following list - [1,11,14,5,8,9]\n",
    "\n",
    "l_1 = [1,11,14,5,8,9]\n",
    "#def new_list(range(len(l_1))):\n",
    "# l_2 =[]\n",
    "# for x in l_1:\n",
    "#     if x > 10:\n",
    "#         continue\n",
    "#     else: \n",
    "#         l_2.append(x)\n",
    "# print(l_2)\n",
    "\n",
    "#fixed it up! Still have some trouble but notes and examples help\n",
    "\n",
    "def maxNum (new_list):\n",
    "    return [i for i in new_list if i<10]\n",
    "print(maxNum(l_1))\n",
    "        \n"
   ]
  },
  {
   "cell_type": "markdown",
   "metadata": {},
   "source": [
    "## Exercise 2 <br>\n",
    "<p>Write a function that takes in two lists and returns the two lists merged together and sorted<br>\n",
    "<b><i>Hint: You can use the .sort() method</i></b></p>"
   ]
  },
  {
   "cell_type": "code",
   "execution_count": 61,
   "metadata": {},
   "outputs": [
    {
     "name": "stdout",
     "output_type": "stream",
     "text": [
      "97\n",
      "97\n"
     ]
    }
   ],
   "source": [
    "l_1 = [1,2,3,4,5,6]\n",
    "l_2 = [3,4,5,6,7,8,10]\n",
    "\n",
    "def var (l_1,l_2):\n",
    "    l_3 = l_1 + l_2\n",
    "    l_3.sort()\n",
    "    return l_3\n",
    "    \n",
    "print(var(l_1,l_2))\n",
    "\n"
   ]
  },
  {
   "cell_type": "code",
   "execution_count": null,
   "metadata": {},
   "outputs": [],
   "source": [
    "#function to find the difference between the biggest and smallest value in a list (day 3 whiteboard problem)\n",
    "\n",
    "max_diff=([2,2,3,99])\n",
    "max_diff2=([1,2,3-4])\n",
    "\n",
    "\n",
    "def var (max_diff):\n",
    "    max_diff.sort()\n",
    "    x = max_diff[-1]- max_diff[0]\n",
    "    return x\n",
    "print(var(max_diff))\n",
    "#can call function by saying var()\n",
    "\n",
    "#can also do sorted(max_diff[-1])-sorted(max_diff[0])\n",
    "\n",
    "#another method using max/min\n",
    "def var (max_diff):\n",
    "    x = max(max_diff)-min(max_diff)\n",
    "    return x\n",
    "print(var(max_diff))"
   ]
  },
  {
   "cell_type": "code",
   "execution_count": 68,
   "metadata": {},
   "outputs": [
    {
     "name": "stdout",
     "output_type": "stream",
     "text": [
      "[75, 80, 93, 95, 95, 105, 105, 77]\n",
      "[75, 80, 93, 95, 95, 105, 105, 77]\n"
     ]
    }
   ],
   "source": [
    "#going over list comprehensions\n",
    "#can you go through the list and add 5 to each element\n",
    "launch1_grades =[70, 75, 88, 90, 90, 100, 100, 72]\n",
    "\n",
    "def addExtraCredit(grades):\n",
    "    new_grades=[]\n",
    "    for grade in grades:\n",
    "        \n",
    "        new_grades.append(grade+5)\n",
    "    \n",
    "    return new_grades\n",
    "print(addExtraCredit(launch1_grades))\n",
    "\n",
    "def addExtraCreditLC(grades):\n",
    "    return [grade+5 for grade in grades if True] #grade+5 is what is being appended, grade in grades is iterable you are going through\n",
    "print(addExtraCreditLC(launch1_grades))         #the grade mst be defined in the for toop\n",
    "\n",
    "#think its return [what is being returned for loop then conditional]\n",
    "#the variable and list inside the def is arbitrary\n",
    "\n"
   ]
  },
  {
   "cell_type": "code",
   "execution_count": 72,
   "metadata": {},
   "outputs": [
    {
     "name": "stdout",
     "output_type": "stream",
     "text": [
      "============\n",
      "[0, 8, 64, 216, 512]\n"
     ]
    }
   ],
   "source": [
    "#find the cube of all even numbers up to a target number n\n",
    "\n",
    "def findCubeEven(n):\n",
    "    my_list=[]\n",
    "    for i in range(n):\n",
    "        if i%2==0:\n",
    "            my_list.append(i**3)\n",
    "\n",
    "    return my_list\n",
    "findCubeEven(9)\n",
    "\n",
    "print('============')\n",
    "\n",
    "def findCubeEvenLc(n):\n",
    "    return [i**3 for i in range(n) if i%2==0]\n",
    "print(findCubeEvenLc(9))\n",
    "\n",
    "#i**3 = what is being done to your list\n",
    "#middle(for in rnage(n)) = for loop, to determine how long your list is going to be\n",
    "#last(if i%2==0) conditional: only going to append etc if it passes the conditional"
   ]
  }
 ],
 "metadata": {
  "kernelspec": {
   "display_name": "Python 3",
   "language": "python",
   "name": "python3"
  },
  "language_info": {
   "codemirror_mode": {
    "name": "ipython",
    "version": 3
   },
   "file_extension": ".py",
   "mimetype": "text/x-python",
   "name": "python",
   "nbconvert_exporter": "python",
   "pygments_lexer": "ipython3",
   "version": "3.8.8"
  }
 },
 "nbformat": 4,
 "nbformat_minor": 2
}
